{
 "cells": [
  {
   "cell_type": "markdown",
   "metadata": {},
   "source": [
    "# Lab | Intro to Probability"
   ]
  },
  {
   "cell_type": "markdown",
   "metadata": {},
   "source": [
    "**Objective**\n",
    "\n",
    "Welcome to this Intro to Probability lab, where we explore decision-making scenarios through the lens of probability and strategic analysis. In the business world, making informed decisions is crucial, especially when faced with uncertainties. This lab focuses on scenarios where probabilistic outcomes play a significant role in shaping strategies and outcomes. Students will engage in exercises that require assessing and choosing optimal paths based on data-driven insights. The goal is to enhance your skills by applying probability concepts to solve real-world problems."
   ]
  },
  {
   "cell_type": "markdown",
   "metadata": {},
   "source": [
    "**Challenge 1**"
   ]
  },
  {
   "cell_type": "markdown",
   "metadata": {},
   "source": [
    "#### Ironhack Airlines \n",
    "\n",
    "Often Airlines sell more tickets than they have seats available, this is called overbooking. Consider the following:\n",
    "- A plane has 450 seats. \n",
    "- Based on historical data we conclude that each individual passenger has a 3% chance of missing it's flight. \n",
    "\n",
    "If the Ironhack Airlines routinely sells 460 tickets, what is the chance that they have a seats for all passenger?"
   ]
  },
  {
   "cell_type": "code",
   "execution_count": 13,
   "metadata": {},
   "outputs": [
    {
     "name": "stdout",
     "output_type": "stream",
     "text": [
      "The chance of the airline having seats for all passengers is: 88.0%\n"
     ]
    }
   ],
   "source": [
    "from scipy.stats import binom\n",
    "\n",
    "num_seats = 450                 # number of seats in the plane\n",
    "\n",
    "miss = 0.03                     # chance of missing a flight (3%)\n",
    "prob_success = 1-miss           # chance of caching a flight (97%)\n",
    "\n",
    "sells_tickets= 460              # number of tickets sold\n",
    "\n",
    "\n",
    "\n",
    "prob_seats_for_all = binom.cdf(num_seats, sells_tickets, prob_success)\n",
    "\n",
    "\n",
    "rounded_value = round(prob_seats_for_all, 2)\n",
    "percentage_value = rounded_value * 100\n",
    "\n",
    "print(f\"The chance of the airline having seats for all passengers is: {percentage_value}%\")\n",
    "\n",
    "\n"
   ]
  },
  {
   "cell_type": "markdown",
   "metadata": {},
   "source": [
    "**Challenge 2**"
   ]
  },
  {
   "cell_type": "markdown",
   "metadata": {},
   "source": [
    "#### Ironhack Call Center "
   ]
  },
  {
   "cell_type": "markdown",
   "metadata": {},
   "source": [
    "Suppose a customer service representative at a call center is handling customer complaints. Consider the following:\n",
    "- The probability of successfully resolving a customer complaint on the first attempt is 0.3. \n",
    "\n",
    "\n",
    "What is the probability that the representative needs to make at least three attempts before successfully resolving a customer complaint?"
   ]
  },
  {
   "cell_type": "code",
   "execution_count": 25,
   "metadata": {},
   "outputs": [
    {
     "name": "stdout",
     "output_type": "stream",
     "text": [
      "The probability of needing at least three attempts is: 49.0 %\n"
     ]
    }
   ],
   "source": [
    "from scipy.stats import geom\n",
    "\n",
    "success = 0.3  # Probability of success on each trial\n",
    "\n",
    "\n",
    "prob_3_attempts = 1 - geom.cdf(2, success)\n",
    "prob_3_attempts_p = prob_3_attempts*100\n",
    "\n",
    "print(f\"The probability of needing at least three attempts is:\",prob_3_attempts_p, \"%\")"
   ]
  },
  {
   "cell_type": "markdown",
   "metadata": {},
   "source": [
    "**Challenge 3**"
   ]
  },
  {
   "cell_type": "markdown",
   "metadata": {},
   "source": [
    "#### Ironhack Website"
   ]
  },
  {
   "cell_type": "markdown",
   "metadata": {},
   "source": [
    "Consider a scenario related to Ironhack website traffic. Where:\n",
    "- our website takes on average 500 visits per hour.\n",
    "- the website's server is designed to handle up to 550 vists per hour.\n",
    "\n",
    "\n",
    "What is the probability of the website server being overwhelmed?"
   ]
  },
  {
   "cell_type": "code",
   "execution_count": 37,
   "metadata": {},
   "outputs": [
    {
     "name": "stdout",
     "output_type": "stream",
     "text": [
      "The probability of the server being overwhelmed is: 1.29 %\n"
     ]
    }
   ],
   "source": [
    "from scipy.stats import poisson\n",
    "\n",
    "\n",
    "average_visits = 500             # Average number of visits per hour\n",
    "max_visits = 550                 # Maximum number of visits the server can handle per hour\n",
    "\n",
    "\n",
    "prob_overwhelmed = 1 - poisson.cdf(max_visits, average_visits)\n",
    "prob_overwhelmed_p = prob_overwhelmed*100\n",
    "\n",
    "print(f\"The probability of the server being overwhelmed is: {prob_overwhelmed_p:.2f} %\")"
   ]
  },
  {
   "cell_type": "markdown",
   "metadata": {},
   "source": [
    "What is the probability of being overwhelmed at some point during a day? (consider 24hours)"
   ]
  },
  {
   "cell_type": "code",
   "execution_count": 41,
   "metadata": {},
   "outputs": [
    {
     "name": "stdout",
     "output_type": "stream",
     "text": [
      "The probability of the server being overwhelmed at some point during a day is: 0.00 %\n"
     ]
    }
   ],
   "source": [
    "from scipy.stats import poisson\n",
    "\n",
    "average_visits = 500  # Average number of visits per hour\n",
    "max_visits = 550      # Maximum number of visits the server can handle per hour\n",
    "hours = 24            # Number of hours in a day\n",
    "\n",
    "\n",
    "prob_overwhelmed_24h = 1 - poisson.cdf(max_visits * hours, average_visits * hours)\n",
    "prob_overwhelmed_24h_p = prob_overwhelmed_24h*100\n",
    "\n",
    "print(f\"The probability of the server being overwhelmed at some point during a day is: {prob_overwhelmed_24h_p:.2f} %\")\n"
   ]
  },
  {
   "cell_type": "code",
   "execution_count": 42,
   "metadata": {},
   "outputs": [],
   "source": [
    "# Our result is equal to zero, indicating that we will not have problems buy being overwhelmed during the day, \n",
    "# and it makes sense because the server can support more than the average number of users,\n",
    "# being x users per hour or x users per day (which is the same) the surver will have more capacity then useres. "
   ]
  },
  {
   "cell_type": "markdown",
   "metadata": {},
   "source": [
    "**Challenge 4**"
   ]
  },
  {
   "cell_type": "markdown",
   "metadata": {},
   "source": [
    "#### Ironhack Helpdesk"
   ]
  },
  {
   "cell_type": "markdown",
   "metadata": {},
   "source": [
    "Consider a scenario related to the time between arrivals of customers at a service desk.\n",
    "\n",
    "On average, a customers arrives every 10minutes.\n",
    "\n",
    "What is the probability that the next customer will arrive within the next 5 minutes?"
   ]
  },
  {
   "cell_type": "code",
   "execution_count": 53,
   "metadata": {},
   "outputs": [
    {
     "name": "stdout",
     "output_type": "stream",
     "text": [
      "The probability that the next customer will arrive within the next 5 minutes is: 39.35 %\n"
     ]
    }
   ],
   "source": [
    "from scipy.stats import expon\n",
    "\n",
    "\n",
    "rate = 1 / 10            # Average number of customer per 10 minutes\n",
    "next_c_time = 5          # custumer in the next amunt of min\n",
    "\n",
    "proba_next_5min = expon.cdf(next_c_time, scale=1/rate)\n",
    "proba_next_5min_p = proba_next_5min*100\n",
    "\n",
    "print(f\"The probability that the next customer will arrive within the next 5 minutes is: {proba_next_5min_p:.2f} %\")"
   ]
  },
  {
   "cell_type": "markdown",
   "metadata": {},
   "source": [
    "If there is no customer for 15minutes, employees can that a 5minutes break.\n",
    "\n",
    "What is the probability an employee taking a break?"
   ]
  },
  {
   "cell_type": "code",
   "execution_count": null,
   "metadata": {},
   "outputs": [],
   "source": [
    "no_customer_min = 15\n",
    "brake_min = 5\n",
    "total_time_no_c = no_customer_min + brake_min\n",
    "\n",
    "# whats the probability of zero customer in 20 minutes"
   ]
  },
  {
   "cell_type": "code",
   "execution_count": 61,
   "metadata": {},
   "outputs": [
    {
     "name": "stdout",
     "output_type": "stream",
     "text": [
      "The probability of having zero customers in 20 minutes is: 90.48 %\n",
      "Meaning that the probability of an employee taking a break is: 9.52 %\n"
     ]
    }
   ],
   "source": [
    "from scipy.stats import poisson\n",
    "\n",
    "mu = 1/10   # Average number of customer per 10 minutes\n",
    "\n",
    "poisson_dist = poisson(mu)\n",
    "prob_0c_20min = poisson_dist.pmf(0)\n",
    "prob_0c_20min_p = prob_0c_20min * 100\n",
    "\n",
    "print(f\"The probability of having zero customers in 20 minutes is: {prob_0c_20min_p:.2f} %\")\n",
    "print(f\"Meaning that the probability of an employee taking a break is: {100-prob_0c_20min_p:.2f} %\")"
   ]
  },
  {
   "cell_type": "markdown",
   "metadata": {},
   "source": [
    "**Challenge 5**"
   ]
  },
  {
   "cell_type": "markdown",
   "metadata": {},
   "source": [
    "The weights of a certain species of birds follow a normal distribution with a mean weight of 150 grams and a standard deviation of 10 grams. \n",
    "\n",
    "- If we randomly select a bird, what is the probability that its weight is between 140 and 160 grams?"
   ]
  },
  {
   "cell_type": "code",
   "execution_count": 69,
   "metadata": {},
   "outputs": [
    {
     "name": "stdout",
     "output_type": "stream",
     "text": [
      "If we randomly select a bird, the probability that its weight is between 140 and 160 grams is: 68.27 %\n"
     ]
    }
   ],
   "source": [
    "from scipy.stats import norm\n",
    "\n",
    "mean_weight = 150    #normal distribution with a mean weight of 150 grams\n",
    "std_dev = 10         #standard deviation of 10 grams\n",
    "\n",
    "lower_bound = 140\n",
    "upper_bound = 160\n",
    "\n",
    "prob = norm.cdf(upper_bound, loc=mean_weight, scale=std_dev) - norm.cdf(lower_bound, loc=mean_weight, scale=std_dev)\n",
    "prob_p = prob * 100\n",
    "\n",
    "\n",
    "print(f\"If we randomly select a bird, the probability that its weight is between 140 and 160 grams is: {prob_p:.2f} %\")"
   ]
  },
  {
   "cell_type": "markdown",
   "metadata": {},
   "source": [
    "**Challenge 6**"
   ]
  },
  {
   "cell_type": "markdown",
   "metadata": {},
   "source": [
    "If the lifetime (in hours) of a certain electronic component follows an exponential distribution with a mean lifetime of 50 hours, what is the probability that the component fails within the first 30 hours?"
   ]
  },
  {
   "cell_type": "code",
   "execution_count": 74,
   "metadata": {},
   "outputs": [
    {
     "name": "stdout",
     "output_type": "stream",
     "text": [
      "The probability of a electronic component fails within the first 30 hours is: 45.12 %\n"
     ]
    }
   ],
   "source": [
    "from scipy.stats import expon\n",
    "\n",
    "mean_life = 50     # exponential distribution with a mean lifetime of 50 hours\n",
    "f_time = 30        # fails within the first 30 hours\n",
    "\n",
    "\n",
    "prob = expon.cdf(f_time, scale=mean_life)\n",
    "prob_p =  prob*100\n",
    "\n",
    "print(f\"The probability of a electronic component fails within the first 30 hours is: {prob_p:.2f} %\")"
   ]
  }
 ],
 "metadata": {
  "kernelspec": {
   "display_name": "Python 3",
   "language": "python",
   "name": "python3"
  },
  "language_info": {
   "codemirror_mode": {
    "name": "ipython",
    "version": 3
   },
   "file_extension": ".py",
   "mimetype": "text/x-python",
   "name": "python",
   "nbconvert_exporter": "python",
   "pygments_lexer": "ipython3",
   "version": "3.12.2"
  }
 },
 "nbformat": 4,
 "nbformat_minor": 2
}
